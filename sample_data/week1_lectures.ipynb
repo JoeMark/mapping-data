{
 "cells": [
  {
   "cell_type": "code",
   "execution_count": 3,
   "id": "847e8c24-df5e-4890-8d9d-593e3a600e34",
   "metadata": {
    "tags": []
   },
   "outputs": [
    {
     "data": {
      "text/plain": [
       "1"
      ]
     },
     "execution_count": 3,
     "metadata": {},
     "output_type": "execute_result"
    }
   ],
   "source": [
    "things = [1, 2, 3, 4, 5, 6, 7]\n",
    "things[0]\n",
    "\n"
   ]
  },
  {
   "cell_type": "code",
   "execution_count": 1,
   "id": "962ce71a-bdf4-4276-911a-719005287d9f",
   "metadata": {
    "tags": []
   },
   "outputs": [
    {
     "data": {
      "text/plain": [
       "['.Rhistory', '.config']"
      ]
     },
     "execution_count": 1,
     "metadata": {},
     "output_type": "execute_result"
    }
   ],
   "source": [
    "## Lists and list indexing\n",
    "import os\n",
    "directories = os.listdir('/Users/oms')\n",
    "directories[0:2]\n"
   ]
  },
  {
   "cell_type": "code",
   "execution_count": 2,
   "id": "369bea96-34ab-4099-b2ff-2c65b4956087",
   "metadata": {
    "tags": []
   },
   "outputs": [
    {
     "data": {
      "text/plain": [
       "{'name': 'Joe', 'email': 'suurbraak@gmail.com'}"
      ]
     },
     "execution_count": 2,
     "metadata": {},
     "output_type": "execute_result"
    }
   ],
   "source": [
    "# Dictionaries\n",
    "contacts = {\"name\": \"Joe\", \"email\": \"suurbraak@gmail.com\"}\n",
    "contacts"
   ]
  },
  {
   "cell_type": "code",
   "execution_count": 4,
   "id": "a683fe70-a875-47db-ad84-e192b34a3012",
   "metadata": {},
   "outputs": [
    {
     "name": "stdout",
     "output_type": "stream",
     "text": [
      "None\n"
     ]
    }
   ],
   "source": [
    "print(contacts.get('who'))"
   ]
  },
  {
   "cell_type": "code",
   "execution_count": 5,
   "id": "7b3875e2",
   "metadata": {},
   "outputs": [
    {
     "data": {
      "text/plain": [
       "'Unknown'"
      ]
     },
     "execution_count": 5,
     "metadata": {},
     "output_type": "execute_result"
    }
   ],
   "source": [
    "contacts.get(\"phone\", \"Unknown\")"
   ]
  },
  {
   "cell_type": "code",
   "execution_count": 6,
   "id": "f5e12924",
   "metadata": {},
   "outputs": [
    {
     "data": {
      "text/plain": [
       "dict_keys(['name', 'email'])"
      ]
     },
     "execution_count": 6,
     "metadata": {},
     "output_type": "execute_result"
    }
   ],
   "source": [
    "contacts.keys()"
   ]
  },
  {
   "cell_type": "code",
   "execution_count": 7,
   "id": "c77550d3",
   "metadata": {},
   "outputs": [
    {
     "data": {
      "text/plain": [
       "dict_values(['Joe', 'suurbraak@gmail.com'])"
      ]
     },
     "execution_count": 7,
     "metadata": {},
     "output_type": "execute_result"
    }
   ],
   "source": [
    "contacts.values()"
   ]
  },
  {
   "cell_type": "code",
   "execution_count": 9,
   "id": "fb984871",
   "metadata": {},
   "outputs": [
    {
     "data": {
      "text/plain": [
       "{'name': 'Joe', 'email': 'suurbraak@gmail.com', 'phone': '0799655138'}"
      ]
     },
     "execution_count": 9,
     "metadata": {},
     "output_type": "execute_result"
    }
   ],
   "source": [
    "contacts[\"phone\"] = \"0799655138\"\n",
    "contacts"
   ]
  },
  {
   "cell_type": "code",
   "execution_count": 11,
   "id": "4618f1be",
   "metadata": {},
   "outputs": [
    {
     "name": "stdout",
     "output_type": "stream",
     "text": [
      "Milla\n",
      "Leila\n",
      "Frank\n"
     ]
    }
   ],
   "source": [
    "# Iterating over lists and dictionaries\n",
    "names = ['Milla', 'Leila', 'Frank', 'Joe']\n",
    "for name in names:\n",
    "    if len(name) > 4:\n",
    "        print(name)"
   ]
  },
  {
   "cell_type": "code",
   "execution_count": 13,
   "id": "1663a20c",
   "metadata": {},
   "outputs": [
    {
     "data": {
      "text/plain": [
       "['Milla', 'Leila', 'Frank']"
      ]
     },
     "execution_count": 13,
     "metadata": {},
     "output_type": "execute_result"
    }
   ],
   "source": [
    "# list comprehensions\n",
    "long_names = [name for name in names if len(name) > 3]\n",
    "long_names"
   ]
  },
  {
   "cell_type": "code",
   "execution_count": 14,
   "id": "988c58d1",
   "metadata": {},
   "outputs": [
    {
     "name": "stdout",
     "output_type": "stream",
     "text": [
      "Leila\n",
      "Joe\n",
      "Milla\n"
     ]
    }
   ],
   "source": [
    "emails = {\"Leila\": \"leila@example.org\", \"Joe\": \"joe@example.org\", \"Milla\": \"milla@example.org\"}\n",
    "for email in emails:\n",
    "    print(email)"
   ]
  },
  {
   "cell_type": "code",
   "execution_count": 18,
   "id": "2d5df5a5",
   "metadata": {
    "scrolled": true
   },
   "outputs": [
    {
     "name": "stdout",
     "output_type": "stream",
     "text": [
      "leila@example.org\n",
      "joe@example.org\n",
      "milla@example.org\n"
     ]
    }
   ],
   "source": [
    "for email in emails.values():\n",
    "    print(email)"
   ]
  },
  {
   "cell_type": "code",
   "execution_count": 19,
   "id": "946204c8",
   "metadata": {},
   "outputs": [
    {
     "name": "stdout",
     "output_type": "stream",
     "text": [
      "Leila leila@example.org\n",
      "Joe joe@example.org\n",
      "Milla milla@example.org\n"
     ]
    }
   ],
   "source": [
    "for name, email in emails.items():\n",
    "    print(name, email)"
   ]
  },
  {
   "cell_type": "code",
   "execution_count": 20,
   "id": "33bd3406",
   "metadata": {},
   "outputs": [],
   "source": [
    "# storing data between data structures in Python\n",
    "# collect items in home directory\n",
    "import os\n",
    "home_items = os.listdir('/Users/oms')\n",
    "home_objects = {\"directories\": [], \"files\": []}\n"
   ]
  },
  {
   "cell_type": "code",
   "execution_count": 24,
   "id": "fde6cfea",
   "metadata": {},
   "outputs": [],
   "source": [
    "home_paths = [os.path.join('/Users/oms', item) for item in home_items]\n",
    "#home_paths"
   ]
  },
  {
   "cell_type": "code",
   "execution_count": 26,
   "id": "82f2949d",
   "metadata": {},
   "outputs": [],
   "source": [
    "for path in home_paths:\n",
    "    if os.path.isdir(path):\n",
    "        home_objects[\"directories\"].append(path)\n",
    "    if os.path.isfile(path):\n",
    "        home_objects[\"files\"].append(path)\n",
    "\n",
    "#home_objects"
   ]
  },
  {
   "cell_type": "code",
   "execution_count": 28,
   "id": "e5fa7511",
   "metadata": {},
   "outputs": [
    {
     "name": "stdout",
     "output_type": "stream",
     "text": [
      "/Users/oms/.Rhistory\n",
      "/Users/oms/.zcompdump-JoeMark-5.8.1\n",
      "/Users/oms/loops.sh\n",
      "/Users/oms/while-loops.sh\n",
      "/Users/oms/.DS_Store\n",
      "/Users/oms/.CFUserTextEncoding\n",
      "/Users/oms/.zshrc.pre-oh-my-zsh\n",
      "/Users/oms/.zshrc\n",
      "/Users/oms/py_v3.py\n",
      "/Users/oms/.psql_history\n",
      "/Users/oms/.zprofile\n",
      "/Users/oms/and.sh\n",
      "/Users/oms/pyvenv.cfg\n",
      "/Users/oms/.zsh_history\n",
      "/Users/oms/.lesshst\n",
      "/Users/oms/.zcompdump-JoeMark-5.8.1.zwc\n",
      "/Users/oms/.sqlite_history\n",
      "/Users/oms/.gitignore\n",
      "/Users/oms/vars.sh\n",
      "/Users/oms/.RData\n",
      "/Users/oms/whatIf.sh\n",
      "/Users/oms/shebang_env\n",
      "/Users/oms/shebang_absolute\n",
      "/Users/oms/.python-version\n",
      "/Users/oms/http_request.py\n",
      "/Users/oms/.python_history\n",
      "/Users/oms/xh.pdf\n",
      "/Users/oms/.bash_history\n",
      "/Users/oms/.viminfo\n",
      "/Users/oms/if-else.sh\n",
      "/Users/oms/apiKeys.sh\n",
      "/Users/oms/.Rhistory\n",
      "/Users/oms/.zcompdump-JoeMark-5.8.1\n",
      "/Users/oms/loops.sh\n",
      "/Users/oms/while-loops.sh\n",
      "/Users/oms/.DS_Store\n",
      "/Users/oms/.CFUserTextEncoding\n",
      "/Users/oms/.zshrc.pre-oh-my-zsh\n",
      "/Users/oms/.zshrc\n",
      "/Users/oms/py_v3.py\n",
      "/Users/oms/.psql_history\n",
      "/Users/oms/.zprofile\n",
      "/Users/oms/and.sh\n",
      "/Users/oms/pyvenv.cfg\n",
      "/Users/oms/.zsh_history\n",
      "/Users/oms/.lesshst\n",
      "/Users/oms/.zcompdump-JoeMark-5.8.1.zwc\n",
      "/Users/oms/.sqlite_history\n",
      "/Users/oms/.gitignore\n",
      "/Users/oms/vars.sh\n",
      "/Users/oms/.RData\n",
      "/Users/oms/whatIf.sh\n",
      "/Users/oms/shebang_env\n",
      "/Users/oms/shebang_absolute\n",
      "/Users/oms/.python-version\n",
      "/Users/oms/http_request.py\n",
      "/Users/oms/.python_history\n",
      "/Users/oms/xh.pdf\n",
      "/Users/oms/.bash_history\n",
      "/Users/oms/.viminfo\n",
      "/Users/oms/if-else.sh\n",
      "/Users/oms/apiKeys.sh\n"
     ]
    }
   ],
   "source": [
    "for item in home_objects['files']:\n",
    "    print(item)"
   ]
  },
  {
   "cell_type": "code",
   "execution_count": null,
   "id": "6938b18e",
   "metadata": {},
   "outputs": [],
   "source": []
  }
 ],
 "metadata": {
  "kernelspec": {
   "display_name": "Python 3 (ipykernel)",
   "language": "python",
   "name": "python3"
  },
  "language_info": {
   "codemirror_mode": {
    "name": "ipython",
    "version": 3
   },
   "file_extension": ".py",
   "mimetype": "text/x-python",
   "name": "python",
   "nbconvert_exporter": "python",
   "pygments_lexer": "ipython3",
   "version": "3.10.0"
  }
 },
 "nbformat": 4,
 "nbformat_minor": 5
}
