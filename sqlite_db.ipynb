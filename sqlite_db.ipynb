{
 "cells": [
  {
   "cell_type": "code",
   "execution_count": 1,
   "id": "cfd87923",
   "metadata": {},
   "outputs": [],
   "source": [
    "from faker import Faker\n",
    "fake = Faker()\n",
    "names = [fake.name().split() for i in range(100)]\n",
    "names = [name for name in names if len(name) == 2]\n",
    "#names"
   ]
  },
  {
   "cell_type": "code",
   "execution_count": 3,
   "id": "a96d51f9",
   "metadata": {},
   "outputs": [],
   "source": [
    "import sqlite3\n",
    "connection = sqlite3.connect('sample.db')"
   ]
  },
  {
   "cell_type": "code",
   "execution_count": 4,
   "id": "ea96741d",
   "metadata": {},
   "outputs": [],
   "source": [
    "insert_query = 'INSERT INTO people(name, surname) VALUES(?, ?)'\n",
    "cursor = connection.cursor()\n",
    "for name in names:\n",
    "    cursor.execute(insert_query, name)\n",
    "connection.commit()"
   ]
  },
  {
   "cell_type": "code",
   "execution_count": 9,
   "id": "0e4e7d49",
   "metadata": {},
   "outputs": [
    {
     "name": "stdout",
     "output_type": "stream",
     "text": [
      "(1, 'Blake', 'Walsh')\n",
      "(2, 'Erica', 'Norton')\n",
      "(3, 'Sandra', 'Myers')\n",
      "(4, 'James', 'Burgess')\n",
      "(5, 'John', 'Abbott')\n",
      "(6, 'Kevin', 'Hunter')\n",
      "(7, 'Scott', 'Glass')\n",
      "(8, 'Robert', 'Wilson')\n",
      "(9, 'Alice', 'Garcia')\n",
      "(10, 'Michael', 'Hernandez')\n"
     ]
    }
   ],
   "source": [
    "select_query = 'SELECT * FROM people LIMIT 10'\n",
    "for i in cursor.execute(select_query):\n",
    "    print(i)"
   ]
  },
  {
   "cell_type": "code",
   "execution_count": 5,
   "id": "0c203a42",
   "metadata": {},
   "outputs": [
    {
     "name": "stdout",
     "output_type": "stream",
     "text": [
      "(1, 'Blake', 'Walsh')\n",
      "(2, 'Erica', 'Norton')\n",
      "(3, 'Sandra', 'Myers')\n",
      "(4, 'James', 'Burgess')\n",
      "(5, 'John', 'Abbott')\n",
      "(6, 'Kevin', 'Hunter')\n",
      "(7, 'Scott', 'Glass')\n",
      "(8, 'Robert', 'Wilson')\n",
      "(9, 'Alice', 'Garcia')\n",
      "(10, 'Michael', 'Hernandez')\n",
      "(11, 'Rachel', 'Parker')\n"
     ]
    }
   ],
   "source": [
    "query = 'SELECT * FROM people'\n",
    "count = 0\n",
    "for result in cursor.execute(query):\n",
    "    print(result)\n",
    "    count += 1\n",
    "    if count > 10:\n",
    "        break\n",
    "    "
   ]
  },
  {
   "cell_type": "code",
   "execution_count": 6,
   "id": "ecfac924",
   "metadata": {},
   "outputs": [
    {
     "name": "stdout",
     "output_type": "stream",
     "text": [
      "(1, 'Blake', 'Walsh')\n",
      "(2, 'Erica', 'Norton')\n",
      "(3, 'Sandra', 'Myers')\n",
      "(4, 'James', 'Burgess')\n",
      "(5, 'John', 'Abbott')\n",
      "(6, 'Kevin', 'Hunter')\n",
      "(7, 'Scott', 'Glass')\n",
      "(8, 'Robert', 'Wilson')\n",
      "(9, 'Alice', 'Garcia')\n",
      "(10, 'Michael', 'Hernandez')\n"
     ]
    }
   ],
   "source": [
    "query = 'SELECT * FROM people LIMIT 10'\n",
    "for result in cursor.execute(query):\n",
    "    print(result)"
   ]
  },
  {
   "cell_type": "code",
   "execution_count": null,
   "id": "e49fb80a",
   "metadata": {},
   "outputs": [],
   "source": []
  }
 ],
 "metadata": {
  "kernelspec": {
   "display_name": "Python 3 (ipykernel)",
   "language": "python",
   "name": "python3"
  },
  "language_info": {
   "codemirror_mode": {
    "name": "ipython",
    "version": 3
   },
   "file_extension": ".py",
   "mimetype": "text/x-python",
   "name": "python",
   "nbconvert_exporter": "python",
   "pygments_lexer": "ipython3",
   "version": "3.10.0"
  }
 },
 "nbformat": 4,
 "nbformat_minor": 5
}
