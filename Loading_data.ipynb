{
 "cells": [
  {
   "cell_type": "code",
   "execution_count": 10,
   "id": "3ed3f90d",
   "metadata": {},
   "outputs": [],
   "source": [
    "##Loading Data from Files and Filepaths\n",
    "python_file = open('/Users/oms/http_request.py')\n",
    "open_file = python_file.readlines()\n",
    "open_file\n",
    "python_file.close()\n"
   ]
  },
  {
   "cell_type": "code",
   "execution_count": 11,
   "id": "5f1a9ac2",
   "metadata": {},
   "outputs": [],
   "source": [
    "with open('/Users/oms/http_request.py') as python_file:\n",
    "    python_contents = python_file.readlines()"
   ]
  },
  {
   "cell_type": "code",
   "execution_count": 12,
   "id": "d97b15ac",
   "metadata": {},
   "outputs": [
    {
     "data": {
      "text/plain": [
       "['#How to make an HTTP request in Python\\n',\n",
       " 'import requests\\n',\n",
       " '\\n',\n",
       " \"response = requests.get('https://www.example.com')\\n\",\n",
       " 'print(response.status_code)\\n',\n",
       " 'print(response.text)\\n',\n",
       " '\\n']"
      ]
     },
     "execution_count": 12,
     "metadata": {},
     "output_type": "execute_result"
    }
   ],
   "source": [
    "python_contents"
   ]
  },
  {
   "cell_type": "code",
   "execution_count": 7,
   "id": "080fec8e",
   "metadata": {},
   "outputs": [
    {
     "name": "stdout",
     "output_type": "stream",
     "text": [
      "['/Users/oms/.config', '/Users/oms/Music', '/Users/oms/.virtualenvs', '/Users/oms/scripting', '/Users/oms/VirtualBox VMs', '/Users/oms/.lldb', '/Users/oms/bin', '/Users/oms/.local', '/Users/oms/include', '/Users/oms/Pictures', '/Users/oms/.ipython', '/Users/oms/Desktop', '/Users/oms/Library', '/Users/oms/.matplotlib', '/Users/oms/.pgadmin', '/Users/oms/Public', '/Users/oms/.idlerc', '/Users/oms/.env', '/Users/oms/.ssh', '/Users/oms/Movies', '/Users/oms/Applications', '/Users/oms/lib', '/Users/oms/.Trash', '/Users/oms/.jupyter', '/Users/oms/Documents', '/Users/oms/venv', '/Users/oms/.pyenv', '/Users/oms/.vscode', '/Users/oms/.oh-my-zsh', '/Users/oms/Downloads', '/Users/oms/.cache', '/Users/oms/.zsh_sessions', '/Users/oms/share']\n"
     ]
    }
   ],
   "source": [
    "import os\n",
    "os.path.exists('/Users/oms') #always ensure path exists\n",
    "important_directories = []\n",
    "home_items =  os.listdir('/Users/oms')\n",
    "home_paths = [os.path.join('/Users/oms', item) for item in home_items]\n",
    "for path in home_paths:\n",
    "    if os.path.isdir(path):\n",
    "        important_directories.append(path)\n",
    "print(important_directories)\n",
    "\n"
   ]
  },
  {
   "cell_type": "code",
   "execution_count": 4,
   "id": "3d1932ef",
   "metadata": {},
   "outputs": [],
   "source": [
    "import os\n",
    "#os.listdir('/Users/oms')"
   ]
  },
  {
   "cell_type": "code",
   "execution_count": 3,
   "id": "15998aed",
   "metadata": {},
   "outputs": [],
   "source": [
    "import os\n",
    "important_directories = []\n",
    "home_items = os.listdir('/Users/oms')\n",
    "#for item in os.listdir(home_items):\n",
    "    #if os.path.isdir(item):\n",
    "        #important_directories.append(item)\n",
    "#print(important_directories)"
   ]
  },
  {
   "cell_type": "code",
   "execution_count": null,
   "id": "614c9aa7",
   "metadata": {},
   "outputs": [],
   "source": [
    "# Loading and Saving JSON Files\n",
    "import json\n"
   ]
  }
 ],
 "metadata": {
  "kernelspec": {
   "display_name": "Python 3 (ipykernel)",
   "language": "python",
   "name": "python3"
  },
  "language_info": {
   "codemirror_mode": {
    "name": "ipython",
    "version": 3
   },
   "file_extension": ".py",
   "mimetype": "text/x-python",
   "name": "python",
   "nbconvert_exporter": "python",
   "pygments_lexer": "ipython3",
   "version": "3.10.0"
  }
 },
 "nbformat": 4,
 "nbformat_minor": 5
}
